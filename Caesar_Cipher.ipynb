{
 "cells": [
  {
   "cell_type": "code",
   "execution_count": 130,
   "metadata": {},
   "outputs": [],
   "source": [
    "# The function work by being provided plaintext (s) and three integers (l, m and n). It then shifts uppercase\n",
    "# letters l spaces, lowercase m spaces and numbers n spaces. If the shift would cause a letter to go beyond\n",
    "# 'Z' then it will switch to lowercase and continue the shift, lowercase will switch to numbers and numbers\n",
    "# will switch to uppercase. Punctuation, spacing and special characters will remain unchanged.\n",
    "\n",
    "def caesar_cipher(p, l, m, n):\n",
    "    \"\"\"return letter n places further on in the alphabet\"\"\"\n",
    "\n",
    "    ciphertext = '' # This will become the ciphertext.\n",
    "\n",
    "    # As we are only shifting in the uppercase alphabet, lowercase alphabet and base-10 integers, the 'wheel'\n",
    "    # we are rotating characters around has exactly 62 elements and so we can just take our shifts modulo 62.\n",
    "\n",
    "    l0 = l\n",
    "    m0 = m\n",
    "    n0 = n\n",
    "\n",
    "    l %= 62\n",
    "    m %= 62\n",
    "    n %= 62\n",
    "\n",
    "    print(\"Your Key is: XX-XX-{}-XX-{}-{}-XX-XX\".format(n0,m0,l0)) # Prints out the user's decryption key.\n",
    "\n",
    "    for letter in p:\n",
    "        if letter.isalpha() == True: # Ensures that alphabetical characters are changed.\n",
    "            if letter == letter.upper(): # Discriminates uppercase characters.\n",
    "            \n",
    "                if ord(letter) + l > ord('Z'):\n",
    "                    letter1 = 'a'\n",
    "                    l1 = l - (ord('Z') - ord(letter))\n",
    "                    \n",
    "                    if ord(letter1) + l1 > ord('z'):\n",
    "                        letter2 = '0'\n",
    "                        l2 = l1 - (ord('z') - ord(letter1))\n",
    "\n",
    "                        if ord(letter2) + l2 > ord('9'):\n",
    "                            letter3 = 'A'\n",
    "                            l3 = l2 - (ord('9') - ord(letter2))\n",
    "                            ciphertext += chr(ord(letter3) + l3)\n",
    "\n",
    "                        else:\n",
    "                            ciphertext += chr(ord(letter2) + l2)\n",
    "\n",
    "                    else:\n",
    "                        ciphertext += chr(ord(letter1) + l1)\n",
    "\n",
    "                else:\n",
    "                    ciphertext += chr(ord(letter) + l)\n",
    "        \n",
    "            elif letter == letter.lower(): # Discriminates lowercase characters.\n",
    "            \n",
    "                if ord(letter) + m > ord('z'):\n",
    "                    letter1 = '0'\n",
    "                    m1 = m - (ord('z') - ord(letter))\n",
    "                    \n",
    "                    if ord(letter1) + m1 > ord('9'):\n",
    "                        letter2 = 'A'\n",
    "                        m2 = m1 - (ord('9') - ord(letter1))\n",
    "\n",
    "                        if ord(letter2) + m2 > ord('Z'):\n",
    "                            letter3 = 'a'\n",
    "                            m3 = m2 - (ord('Z') - ord(letter2))\n",
    "                            ciphertext += chr(ord(letter3) + m3)\n",
    "\n",
    "                        else:\n",
    "                            ciphertext += chr(ord(letter2) + m2)\n",
    "\n",
    "                    else:\n",
    "                        ciphertext += chr(ord(letter1) + m1)\n",
    "\n",
    "                else:\n",
    "                    ciphertext += chr(ord(letter) + m)\n",
    "\n",
    "        elif letter.isdigit() == True: # Ensures numbers are changed.\n",
    "\n",
    "            if ord(letter) + n > ord('9'):\n",
    "                letter1 = 'A'\n",
    "                n1 = n - (ord('9') - ord(letter))\n",
    "                    \n",
    "                if ord(letter1) + n1 > ord('Z'):\n",
    "                    letter2 = 'a'\n",
    "                    n2 = n1 - (ord('Z') - ord(letter1))\n",
    "\n",
    "                    if ord(letter2) + n2 > ord('z'):\n",
    "                        letter3 = '0'\n",
    "                        n3 = n2 - (ord('z') - ord(letter2))\n",
    "                        ciphertext += chr(ord(letter3) + n3)\n",
    "\n",
    "                    else:\n",
    "                        ciphertext += chr(ord(letter2) + n2)\n",
    "\n",
    "                else:\n",
    "                    ciphertext += chr(ord(letter1) + n1)\n",
    "\n",
    "            else:\n",
    "                ciphertext += chr(ord(letter) + n)\n",
    "        \n",
    "        else:\n",
    "            ciphertext += chr(ord(letter)) # Ensures that punctuation, spacing and special characters aren't changed.\n",
    "    \n",
    "    return ciphertext # Returns the ciphertext.\n"
   ]
  },
  {
   "cell_type": "code",
   "execution_count": 192,
   "metadata": {},
   "outputs": [
    {
     "name": "stdout",
     "output_type": "stream",
     "text": [
      "Your Key is: XX-XX-38-XX-100-38-XX-XX\n"
     ]
    },
    {
     "data": {
      "text/plain": [
       "'uIPPS BeVPH!'"
      ]
     },
     "execution_count": 192,
     "metadata": {},
     "output_type": "execute_result"
    }
   ],
   "source": [
    "caesar_cipher('Hello W0rld!', 38, 100, 38)"
   ]
  },
  {
   "cell_type": "code",
   "execution_count": 184,
   "metadata": {},
   "outputs": [
    {
     "name": "stdout",
     "output_type": "stream",
     "text": [
      "Your Key is: XX-XX-37-XX-38-38-XX-XX\n"
     ]
    },
    {
     "data": {
      "text/plain": [
       "'uIPPS BdVPH!'"
      ]
     },
     "execution_count": 184,
     "metadata": {},
     "output_type": "execute_result"
    }
   ],
   "source": [
    "caesar_cipher('Hello W0rld!', 38, 38, 37)"
   ]
  },
  {
   "cell_type": "code",
   "execution_count": 185,
   "metadata": {},
   "outputs": [
    {
     "name": "stdout",
     "output_type": "stream",
     "text": [
      "Your Key is: XX-XX-38-XX-37-38-XX-XX\n"
     ]
    },
    {
     "data": {
      "text/plain": [
       "'uHOOR BeUOG!'"
      ]
     },
     "execution_count": 185,
     "metadata": {},
     "output_type": "execute_result"
    }
   ],
   "source": [
    "caesar_cipher('Hello W0rld!', 38, 37, 38)"
   ]
  },
  {
   "cell_type": "code",
   "execution_count": 186,
   "metadata": {},
   "outputs": [
    {
     "name": "stdout",
     "output_type": "stream",
     "text": [
      "Your Key is: XX-XX-38-XX-38-37-XX-XX\n"
     ]
    },
    {
     "data": {
      "text/plain": [
       "'tIPPS 9eVPH!'"
      ]
     },
     "execution_count": 186,
     "metadata": {},
     "output_type": "execute_result"
    }
   ],
   "source": [
    "caesar_cipher('Hello W0rld!', 37, 38, 38)"
   ]
  },
  {
   "cell_type": "code",
   "execution_count": 210,
   "metadata": {},
   "outputs": [],
   "source": [
    "# This function will request that the user enters a key if the digits of the entered key matches what \n",
    "# the programme is 'expecting' then it will decrypt the ented ciphertext. Keys will be of the form: \n",
    "# XX-XX-n-XX-m-l-XX-XX where the 'XX' are the user identification numbers, 'l' is the shift number \n",
    "# for the uppercase letters, 'm' is the shift number for the lowercase letters, and 'n' is the shift \n",
    "# number for numbers.  \n",
    "\n",
    "def brutus_decipher(c, user_key):\n",
    "    \"\"\"Decrypts an entered cipher text\"\"\"\n",
    "\n",
    "    plaintext = '' # This will become the plaintext. \n",
    "\n",
    "    l = int(user_key.split('-')[5]) # This will identify the shift digit for uppercase letters.\n",
    "    l %= 62\n",
    "\n",
    "    m = int(user_key.split('-')[4]) # This will identify the shift digit for lowercase letters.\n",
    "    m %= 62\n",
    "\n",
    "    n = int(user_key.split('-')[2]) # This will identify the shift digit for numbers.\n",
    "    n %= 62\n",
    "\n",
    "    for letter in c:\n",
    "        if letter.isalpha() == True: # Ensures that alphabetical characters are changed.\n",
    "            if letter == letter.upper(): # Discriminates uppercase characters.\n",
    "            \n",
    "                if ord(letter) - l < ord('A'):\n",
    "                    letter1 = '9'\n",
    "                    l1 = l - (ord(letter) - ord('A'))\n",
    "                    \n",
    "                    if ord(letter1) - l1 < ord('0'):\n",
    "                        letter2 = 'z'\n",
    "                        l2 = l1 - (ord(letter1) - ord('0'))\n",
    "\n",
    "                        if ord(letter2) - l2 < ord('a'):\n",
    "                            letter3 = 'Z'\n",
    "                            l3 = l2 - (ord(letter2) - ord('a'))\n",
    "                            plaintext += chr(ord(letter3) - l3)\n",
    "\n",
    "                        else:\n",
    "                            plaintext += chr(ord(letter2) - l2)\n",
    "\n",
    "                    else:\n",
    "                        plaintext += chr(ord(letter1) - l1)\n",
    "\n",
    "                else:\n",
    "                    plaintext += chr(ord(letter) - l)\n",
    "        \n",
    "            elif letter == letter.lower(): # Discriminates lowercase characters.\n",
    "            \n",
    "                if ord(letter) - m < ord('a'):\n",
    "                    letter1 = 'Z'\n",
    "                    m1 = m - (ord(letter) - ord('a'))\n",
    "                    \n",
    "                    if ord(letter1) - m1 < ord('A'):\n",
    "                        letter2 = '9'\n",
    "                        m2 = m1 - (ord(letter1) - ord('A'))\n",
    "\n",
    "                        if ord(letter2) - m2 < ord('0'):\n",
    "                            letter3 = 'a'\n",
    "                            m3 = m2 - (ord(letter2) - ord('0'))\n",
    "                            plaintext += chr(ord(letter3) - m3)\n",
    "\n",
    "                        else:\n",
    "                            plaintext += chr(ord(letter2) - m2)\n",
    "\n",
    "                    else:\n",
    "                        plaintext += chr(ord(letter1) - m1)\n",
    "\n",
    "                else:\n",
    "                    plaintext += chr(ord(letter) - m)\n",
    "\n",
    "        elif letter.isdigit() == True: # Ensures numbers are changed.\n",
    "\n",
    "            if ord(letter) - n < ord('0'):\n",
    "                letter1 = 'z'\n",
    "                n1 = n - (ord(letter) - ord('0'))\n",
    "                    \n",
    "                if ord(letter1) - n1 < ord('a'):\n",
    "                    letter2 = 'Z'\n",
    "                    n2 = n1 - (ord(letter1) - ord('a'))\n",
    "\n",
    "                    if ord(letter2) - n2 < ord('A'):\n",
    "                        letter3 = '9'\n",
    "                        n3 = n2 - (ord(letter2) - ord('A'))\n",
    "                        plaintext += chr(ord(letter3) - n3)\n",
    "\n",
    "                    else:\n",
    "                        plaintext += chr(ord(letter2) - n2)\n",
    "\n",
    "                else:\n",
    "                    plaintext += chr(ord(letter1) - n1)\n",
    "\n",
    "            else:\n",
    "                plaintext += chr(ord(letter) - n)\n",
    "        \n",
    "        else:\n",
    "            plaintext += chr(ord(letter)) # Ensures that punctuation, spacing and special characters aren't changed.\n",
    "    \n",
    "    return plaintext # Returns the plaintext.\n",
    "\n",
    "    "
   ]
  },
  {
   "cell_type": "code",
   "execution_count": 211,
   "metadata": {},
   "outputs": [
    {
     "data": {
      "text/plain": [
       "'Hello W0rld!'"
      ]
     },
     "execution_count": 211,
     "metadata": {},
     "output_type": "execute_result"
    }
   ],
   "source": [
    "brutus_decipher('uIPPS BeVPH!', 'XX-XX-38-XX-38-38-XX-XX')"
   ]
  },
  {
   "cell_type": "code",
   "execution_count": 212,
   "metadata": {},
   "outputs": [
    {
     "data": {
      "text/plain": [
       "'Hello W`rld!'"
      ]
     },
     "execution_count": 212,
     "metadata": {},
     "output_type": "execute_result"
    }
   ],
   "source": [
    "brutus_decipher('uIPPS BdVPH!', 'XX-XX-37-XX-38-38-XX-XX')"
   ]
  },
  {
   "cell_type": "code",
   "execution_count": 190,
   "metadata": {},
   "outputs": [
    {
     "data": {
      "text/plain": [
       "'Idkkn W1qkc!'"
      ]
     },
     "execution_count": 190,
     "metadata": {},
     "output_type": "execute_result"
    }
   ],
   "source": [
    "brutus_decipher('uHOOR BeUOG!', 'XX-XX-38-XX-37-38-XX-XX')"
   ]
  },
  {
   "cell_type": "code",
   "execution_count": 213,
   "metadata": {},
   "outputs": [
    {
     "data": {
      "text/plain": [
       "'Gfmmp V0sme!'"
      ]
     },
     "execution_count": 213,
     "metadata": {},
     "output_type": "execute_result"
    }
   ],
   "source": [
    "brutus_decipher('tIPPS 9eVPH!', 'XX-XX-38-XX-38-37-XX-XX')"
   ]
  },
  {
   "cell_type": "code",
   "execution_count": 214,
   "metadata": {},
   "outputs": [
    {
     "data": {
      "text/plain": [
       "'m'"
      ]
     },
     "execution_count": 214,
     "metadata": {},
     "output_type": "execute_result"
    }
   ],
   "source": [
    "chr(ord('a') + (38 % 26))"
   ]
  },
  {
   "cell_type": "code",
   "execution_count": 209,
   "metadata": {},
   "outputs": [
    {
     "data": {
      "text/plain": [
       "'a'"
      ]
     },
     "execution_count": 209,
     "metadata": {},
     "output_type": "execute_result"
    }
   ],
   "source": [
    "chr(ord('m') - (38 % 26))"
   ]
  },
  {
   "cell_type": "code",
   "execution_count": 222,
   "metadata": {},
   "outputs": [
    {
     "data": {
      "text/plain": [
       "48"
      ]
     },
     "execution_count": 222,
     "metadata": {},
     "output_type": "execute_result"
    }
   ],
   "source": [
    "ord('0')"
   ]
  }
 ],
 "metadata": {
  "kernelspec": {
   "display_name": "base",
   "language": "python",
   "name": "python3"
  },
  "language_info": {
   "codemirror_mode": {
    "name": "ipython",
    "version": 3
   },
   "file_extension": ".py",
   "mimetype": "text/x-python",
   "name": "python",
   "nbconvert_exporter": "python",
   "pygments_lexer": "ipython3",
   "version": "3.9.13"
  },
  "orig_nbformat": 4
 },
 "nbformat": 4,
 "nbformat_minor": 2
}
